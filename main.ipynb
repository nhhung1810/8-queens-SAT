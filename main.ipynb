{
  "nbformat": 4,
  "nbformat_minor": 0,
  "metadata": {
    "colab": {
      "name": "Lab2.ipynb",
      "provenance": [],
      "include_colab_link": true
    },
    "kernelspec": {
      "name": "python3",
      "display_name": "Python 3"
    },
    "language_info": {
      "name": "python"
    }
  },
  "cells": [
    {
      "cell_type": "markdown",
      "metadata": {
        "id": "view-in-github",
        "colab_type": "text"
      },
      "source": [
        "<a href=\"https://colab.research.google.com/github/nhhung1810/8-queens-SAT/blob/main/main.ipynb\" target=\"_parent\"><img src=\"https://colab.research.google.com/assets/colab-badge.svg\" alt=\"Open In Colab\"/></a>"
      ]
    },
    {
      "cell_type": "markdown",
      "source": [
        "# A SAT Approach for 8 Queens Problem"
      ],
      "metadata": {
        "id": "0UTVi8AC-uOY"
      }
    },
    {
      "cell_type": "markdown",
      "source": [
        "## Requirement a: Formulate the problem by specifying the following points.\n",
        "\n",
        "(Khi nào cài xong thì ghi)"
      ],
      "metadata": {
        "id": "TQvPhG4X91di"
      }
    },
    {
      "cell_type": "markdown",
      "source": [
        "## Requirement b: Write CNF clauses to describe restrictions required when Florence places a queen in the cell[3][3]"
      ],
      "metadata": {
        "id": "kouCih1P-SBc"
      }
    },
    {
      "cell_type": "markdown",
      "source": [
        "First of all, denote `b[x][y]` as \"There is a queen placed at the cell (x, y)\" and `-b[x][y]` as \"It's invalid to place a queen at the cell (x, y)\".\n",
        "If Florence places a queen in the cell (3, 3) all other cells in the horizontal, vertical, main & sub diagonal line are invalid cells to place the next queen. Therefore:\n",
        "\n",
        "$b[3][3] \\implies -b[0][3] \\wedge -b[1][3] \\wedge -b[2][3] \\wedge -b[4][3] \\wedge -b[5][3] \\wedge -b[6][3] \\wedge -b[7][3] \\wedge $\n",
        "\n",
        "$-b[3][0] \\wedge -b[3][1] \\wedge -b[3][2] \\wedge -b[3][4] \\wedge -b[3][5] \\wedge -b[3][6] \\wedge -b[3][7] \\wedge $\n",
        "\n",
        "$-b[0][0] \\wedge -b[1][1] \\wedge -b[2][2] \\wedge -b[4][4] \\wedge -b[5][5] \\wedge -b[6][6] \\wedge -b[7][7] \\wedge $\n",
        "\n",
        "$-b[0][6] \\wedge -b[1][5] \\wedge -b[2][4] \\wedge -b[4][2] \\wedge -b[5][1] \\wedge -b[6][0]$\n",
        "\n",
        "Which equivalents to:\n",
        "\n",
        "$-b[3][3] ∨ (-b[0][3] \\wedge -b[1][3] \\wedge -b[2][3] \\wedge -b[4][3] \\wedge -b[5][3] \\wedge -b[6][3] \\wedge -b[7][3] \\wedge $\n",
        "\n",
        "$-b[3][0] \\wedge -b[3][1] \\wedge -b[3][2] \\wedge -b[3][4] \\wedge -b[3][5] \\wedge -b[3][6] \\wedge -b[3][7] \\wedge $\n",
        "\n",
        "$-b[0][0] \\wedge -b[1][1] \\wedge -b[2][2] \\wedge -b[4][4] \\wedge -b[5][5] \\wedge -b[6][6] \\wedge -b[7][7] \\wedge $\n",
        "\n",
        "$-b[0][6] \\wedge -b[1][5] \\wedge -b[2][4] \\wedge -b[4][2] \\wedge -b[5][1] \\wedge -b[6][0])$\n",
        "\n",
        "Transforming into CNF clause:\n",
        "\n",
        "$ (-b[3][3] \\vee -b[0][3]) \\wedge $\n",
        "\n",
        "$ (-b[3][3] \\vee -b[1][3]) \\wedge $\n",
        "\n",
        "$ (-b[3][3] \\vee -b[2][3]) \\wedge $\n",
        "\n",
        "$ (-b[3][3] \\vee -b[4][3]) \\wedge $\n",
        "\n",
        "$ (-b[3][3] \\vee -b[5][3]) \\wedge $\n",
        "\n",
        "$ (-b[3][3] \\vee -b[6][3]) \\wedge $\n",
        "\n",
        "$ (-b[3][3] \\vee -b[7][3]) \\wedge $\n",
        "\n",
        "$ (-b[3][3] \\vee -b[3][0]) \\wedge $\n",
        "\n",
        "$ (-b[3][3] \\vee -b[3][1]) \\wedge $\n",
        "\n",
        "$ (-b[3][3] \\vee -b[3][2]) \\wedge $\n",
        "\n",
        "$ (-b[3][3] \\vee -b[3][4]) \\wedge $\n",
        "\n",
        "$ (-b[3][3] \\vee -b[3][5]) \\wedge $\n",
        "\n",
        "$ (-b[3][3] \\vee -b[3][6]) \\wedge $\n",
        "\n",
        "$ (-b[3][3] \\vee -b[3][7]) \\wedge $\n",
        "\n",
        "$ (-b[3][3] \\vee -b[0][0]) \\wedge $\n",
        "\n",
        "$ (-b[3][3] \\vee -b[1][1]) \\wedge $\n",
        "\n",
        "$ (-b[3][3] \\vee -b[2][2]) \\wedge $\n",
        "\n",
        "$ (-b[3][3] \\vee -b[4][4]) \\wedge $\n",
        "\n",
        "$ (-b[3][3] \\vee -b[5][5]) \\wedge $\n",
        "\n",
        "$ (-b[3][3] \\vee -b[6][6]) \\wedge $\n",
        "\n",
        "$ (-b[3][3] \\vee -b[7][7]) \\wedge $\n",
        "\n",
        "$ (-b[3][3] \\vee -b[0][6]) \\wedge $\n",
        "\n",
        "$ (-b[3][3] \\vee -b[1][5]) \\wedge $\n",
        "\n",
        "$ (-b[3][3] \\vee -b[2][4]) \\wedge $\n",
        "\n",
        "$ (-b[3][3] \\vee -b[4][2]) \\wedge $\n",
        "\n",
        "$ (-b[3][3] \\vee -b[5][1]) \\wedge $\n",
        "\n",
        "$ (-b[3][3] \\vee -b[6][0]) $\n",
        "\n"
      ],
      "metadata": {
        "id": "g-kXZyLl-YJB"
      }
    }
  ]
}